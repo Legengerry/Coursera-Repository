{
 "cells": [
  {
   "cell_type": "markdown",
   "id": "9ce906d8-dfb2-4bbf-8791-522586c2a90c",
   "metadata": {},
   "source": [
    "# Data Science Tools and Ecosystem"
   ]
  },
  {
   "cell_type": "markdown",
   "id": "45e3af26-1726-487b-bba4-65e58e55a9f4",
   "metadata": {},
   "source": [
    "In this notebook, Data Science Tools and Ecosystem are summarized."
   ]
  },
  {
   "cell_type": "markdown",
   "id": "be13cf8a-028c-4ea3-8d04-7c227408a63a",
   "metadata": {},
   "source": [
    "**Objectives:**\n",
    "\n",
    "* List popular languages for Data Science\n",
    "* List commonly used libraries for Data Science\n",
    "* List development environment open source tools used in Data Science"
   ]
  },
  {
   "cell_type": "markdown",
   "id": "67448c36-15b1-499e-8a32-4f4cbe175a7d",
   "metadata": {},
   "source": [
    "Some of the popular languages that Data Scientists use are:\n",
    "\n",
    "1. Python\n",
    "2. R\n",
    "3. Julia\n",
    "4. Scala"
   ]
  },
  {
   "cell_type": "markdown",
   "id": "fa49c10b-ea10-4cb8-a94c-c578a39b54c0",
   "metadata": {},
   "source": [
    "Some of the commonly used libraries used by Data Scientists include:\n",
    "\n",
    "1. NumPy\n",
    "2. Pandas\n",
    "3. Matplotlib\n",
    "4. Scikit-Learn"
   ]
  },
  {
   "cell_type": "markdown",
   "id": "c184665c-4aa7-4d88-82e3-fe8cc757a3b2",
   "metadata": {},
   "source": [
    "Data Science Tools\n",
    "|----|\n",
    "Jupyter Notebook\n",
    "R Studio \n",
    "Apache Zeppelin "
   ]
  },
  {
   "cell_type": "markdown",
   "id": "11d60b5f-e3af-40da-bd25-d3d7176a1d10",
   "metadata": {},
   "source": [
    "### Below are a few examples of evaluating arithmetic expressions in Python"
   ]
  },
  {
   "cell_type": "code",
   "execution_count": 18,
   "id": "a32c4c53-260f-4642-ab3e-6a3ca5db74e1",
   "metadata": {},
   "outputs": [
    {
     "data": {
      "text/plain": [
       "17"
      ]
     },
     "execution_count": 18,
     "metadata": {},
     "output_type": "execute_result"
    }
   ],
   "source": [
    "# This a simple arithmetic expression to mutiply then add integers\n",
    "\n",
    "(3*4)+5"
   ]
  },
  {
   "cell_type": "code",
   "execution_count": 20,
   "id": "9c748136-8630-4fa8-8d04-3235a32b186d",
   "metadata": {},
   "outputs": [
    {
     "data": {
      "text/plain": [
       "3.3333333333333335"
      ]
     },
     "execution_count": 20,
     "metadata": {},
     "output_type": "execute_result"
    }
   ],
   "source": [
    "# This will convert 200 minutes to hours by diving by 60\n",
    "\n",
    "200/60"
   ]
  },
  {
   "cell_type": "markdown",
   "id": "7a5d2a7c-5d0b-468f-9f97-e7027737d6fb",
   "metadata": {},
   "source": [
    "## Author\n",
    "Gerry"
   ]
  },
  {
   "cell_type": "code",
   "execution_count": null,
   "id": "a4e2f953-8a15-4ed2-8f34-f710c12691ef",
   "metadata": {},
   "outputs": [],
   "source": []
  }
 ],
 "metadata": {
  "kernelspec": {
   "display_name": "Python [conda env:base] *",
   "language": "python",
   "name": "conda-base-py"
  },
  "language_info": {
   "codemirror_mode": {
    "name": "ipython",
    "version": 3
   },
   "file_extension": ".py",
   "mimetype": "text/x-python",
   "name": "python",
   "nbconvert_exporter": "python",
   "pygments_lexer": "ipython3",
   "version": "3.12.7"
  }
 },
 "nbformat": 4,
 "nbformat_minor": 5
}
